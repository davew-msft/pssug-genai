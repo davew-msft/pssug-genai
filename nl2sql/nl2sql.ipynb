{
 "cells": [
  {
   "cell_type": "markdown",
   "id": "81cb6576",
   "metadata": {},
   "source": [
    "Start by getting your db ready.  Here's the info we'll need:\n",
    "\n",
    "\n",
    "We'll use python's \"dotnenv\" package to secure our env variables to connect to our sql server.  "
   ]
  },
  {
   "cell_type": "code",
   "execution_count": null,
   "id": "aadf6e72",
   "metadata": {},
   "outputs": [],
   "source": [
    "! pip install python-dotenv"
   ]
  },
  {
   "cell_type": "code",
   "execution_count": null,
   "id": "cd8310e2",
   "metadata": {},
   "outputs": [],
   "source": [
    "import os  \n",
    "  \n",
    "os.environ[\"SQL_SERVER_USERNAME\"] = \"username\" \n",
    "os.environ[\"SQL_SERVER_ENDPOINT\"] = \"endpoint\"\n",
    "os.environ[\"SQL_SERVER_PASSWORD\"] = \"password\"  \n",
    "os.environ[\"SQL_SERVER_DATABASE\"] = \"database\""
   ]
  }
 ],
 "metadata": {
  "kernelspec": {
   "display_name": "Python 3",
   "language": "python",
   "name": "python3"
  },
  "language_info": {
   "codemirror_mode": {
    "name": "ipython",
    "version": 3
   },
   "file_extension": ".py",
   "mimetype": "text/x-python",
   "name": "python",
   "nbconvert_exporter": "python",
   "pygments_lexer": "ipython3",
   "version": "3.11.9"
  }
 },
 "nbformat": 4,
 "nbformat_minor": 5
}
