{
 "cells": [
  {
   "cell_type": "code",
   "execution_count": null,
   "id": "54fe3bc7-7a41-45d3-9150-cba2f5644ff3",
   "metadata": {
    "microsoft": {
     "language": "python",
     "language_group": "synapse_pyspark"
    }
   },
   "outputs": [],
   "source": [
    "# Welcome to your new notebook\n",
    "# Type here in the cell editor to add code!\n",
    "# https://learn.microsoft.com/en-us/fabric/data-science/ai-skill-scenario"
   ]
  },
  {
   "cell_type": "code",
   "execution_count": null,
   "id": "3d7fbd56-4a82-40a5-b6f6-dc96d6d9643e",
   "metadata": {
    "microsoft": {
     "language": "python",
     "language_group": "synapse_pyspark"
    }
   },
   "outputs": [
    {
     "data": {
      "application/vnd.livy.statement-meta+json": {
       "execution_finish_time": "2025-02-17T14:36:39.4987553Z",
       "execution_start_time": "2025-02-17T14:34:56.2624945Z",
       "livy_statement_state": "available",
       "normalized_state": "finished",
       "parent_msg_id": "350b959f-2d61-4035-a91b-3fbf11e3b490",
       "queued_time": "2025-02-17T14:34:51.274278Z",
       "session_id": "f1a46a74-9aba-43d8-8522-f3b352edf641",
       "session_start_time": null,
       "spark_pool": null,
       "state": "finished",
       "statement_id": 3,
       "statement_ids": [
        3
       ]
      },
      "text/plain": [
       "StatementMeta(, f1a46a74-9aba-43d8-8522-f3b352edf641, 3, Finished, Available, Finished)"
      ]
     },
     "metadata": {},
     "output_type": "display_data"
    },
    {
     "data": {
      "application/vnd.jupyter.widget-view+json": {
       "model_id": "a1910e66ec3d4832b7086a874c8abcb5",
       "version_major": 2,
       "version_minor": 0
      },
      "text/plain": [
       "  0%|          | 0/28 [00:00<?, ?it/s]"
      ]
     },
     "metadata": {},
     "output_type": "display_data"
    },
    {
     "data": {
      "application/vnd.livy.statement-meta+json": {
       "execution_finish_time": "2025-02-17T14:36:39.918406Z",
       "execution_start_time": "2025-02-17T14:36:39.6411088Z",
       "livy_statement_state": "available",
       "normalized_state": "finished",
       "parent_msg_id": "9eaf022a-90b9-409d-bdb0-23d51b54d262",
       "queued_time": "2025-02-17T14:35:01.8350158Z",
       "session_id": "f1a46a74-9aba-43d8-8522-f3b352edf641",
       "session_start_time": null,
       "spark_pool": null,
       "state": "finished",
       "statement_id": 4,
       "statement_ids": [
        4
       ]
      },
      "text/plain": [
       "StatementMeta(, f1a46a74-9aba-43d8-8522-f3b352edf641, 4, Finished, Available, Finished)"
      ]
     },
     "metadata": {},
     "output_type": "display_data"
    }
   ],
   "source": [
    "# populate lakehouse from scratch\n",
    "# this doesn't need to be rerun if it already exists\n",
    "import pandas as pd\n",
    "from tqdm.auto import tqdm\n",
    "base = \"https://synapseaisolutionsa.blob.core.windows.net/public/AdventureWorks\"\n",
    "\n",
    "# load list of tables\n",
    "df_tables = pd.read_csv(f\"{base}/adventureworks.csv\", names=[\"table\"])\n",
    "\n",
    "for table in (pbar := tqdm(df_tables['table'].values)):\n",
    "    pbar.set_description(f\"Uploading {table} to lakehouse\")\n",
    "\n",
    "    # download\n",
    "    df = pd.read_parquet(f\"{base}/{table}.parquet\")\n",
    "\n",
    "    # save as lakehouse table\n",
    "    spark.createDataFrame(df).write.mode('overwrite').saveAsTable(table)"
   ]
  },
  {
   "cell_type": "markdown",
   "id": "6f85a4cd-cd96-4e07-91a8-052f249e4026",
   "metadata": {
    "microsoft": {
     "language": "python",
     "language_group": "synapse_pyspark"
    },
    "nteract": {
     "transient": {
      "deleting": false
     }
    }
   },
   "source": [
    "...then New Item ...AI Skill from within Fabric\n",
    "\n",
    "\n",
    "2 problems: \n",
    "* it only looks at one of the fact tables\n",
    "* it looks at order quantity and it probably should look at sales revenue\n",
    "\n",
    "\n",
    "Add these to the notes\n",
    "\n",
    "```\n",
    "Whenever I ask about \"the most sold\" products or items, the metric of interest is total sales revenue and not order quantity.\n",
    "\n",
    "The primary table to use is FactInternetSales. Only use FactResellerSales if explicitly asked about resales or when asked about total sales.\n",
    "\n",
    "```\n",
    "\n",
    "...then add...\n",
    "\n",
    "```\n",
    "When asked about the impact of promotions, do so on the increase in sales revenue, not just the number of units sold.\n",
    "For customer insights, focus on the total sales amount per customer rather than the number of orders.\n",
    "Use DimDate to extract specific time periods (for example, year, month) when performing time-based analysis.\n",
    "When analyzing geographical data, prioritize total sales revenue and average sales per order for each region.\n",
    "For product category insights, always use DimProductCategory to group products accordingly.\n",
    "When comparing sales between regions, use DimSalesTerritory for accurate territory details.\n",
    "Use DimCurrency to normalize sales data if analyzing sales in different currencies.\n",
    "For detailed product information, always join FactInternetSales with DimProduct.\n",
    "Use DimPromotion to analyze the effectiveness of different promotional campaigns.\n",
    "For reseller performance, focus on total sales amount and not just the number of products sold.\n",
    "When analyzing trends over time, use FactInternetSales and join with DimDate to group data by month, quarter, or year.\n",
    "Always check for data consistency by joining FactInternetSales with the corresponding dimension tables.\n",
    "Use SUM for aggregating sales data to ensure you're capturing total values accurately.\n",
    "Prioritize sales revenue metrics over order quantity, to gauge the financial impact accurately.\n",
    "Always group by relevant dimensions (for example, product, customer, date) to get detailed insights.\n",
    "When asked about customer demographics, join DimCustomer with relevant fact tables.\n",
    "For sales by promotion, join FactInternetSales with DimPromotion and group by promotion name.\n",
    "Normalize sales figures using DimCurrency for comparisons involving different currencies.\n",
    "Use ORDER BY clauses to sort results by the metric of interest (for example, sales revenue, total orders).\n",
    "ListPrice in DimProduct is the suggested selling price, while UnitPrice in FactInternetSales and FactResellerSales is the actual price at which each unit was sold. For most use cases on revenue, the unit price should be used.\n",
    "Rank top resellers by sales amount.\n",
    "```\n"
   ]
  },
  {
   "cell_type": "markdown",
   "id": "12320190-6bf0-4a05-8267-77200fac7aaa",
   "metadata": {
    "microsoft": {
     "language": "python",
     "language_group": "synapse_pyspark"
    },
    "nteract": {
     "transient": {
      "deleting": false
     }
    }
   },
   "source": [
    "`How many active customers did we have June 1st, 2013` is ambiguous\n",
    "\n",
    "\"active customer\" doesn't have a formal definition. \n",
    "\n",
    "`How many active customers did we have June 1,2010?`\n",
    "\n",
    "```sql \n",
    "select count(distinct fis.CustomerKey) as ActiveCustomerCount\n",
    "FROM factinternetsales fis\n",
    "JOIN dimdate dd on fis.OrderDateKey = dd.DateKey\n",
    "where dd.FullDateAlternateKey between dateadd(month, -6, '2010-06-01') and '2010-06-01'\n",
    "group by fis.CustomerKey\n",
    "having count(fis.SalesOrderNumber) >= 2;\n",
    "```\n",
    "\n",
    "...or...upload the json...\n",
    "\n",
    "```json\n",
    "{\n",
    "    \"how many active customers did we have June 1st, 2010?\": \"SELECT COUNT(DISTINCT fis.CustomerKey) AS ActiveCustomerCount FROM factinternetsales fis JOIN dimdate dd ON fis.OrderDateKey = dd.DateKey WHERE dd.FullDateAlternateKey BETWEEN DATEADD(MONTH, -6, '2010-06-01') AND '2010-06-01' GROUP BY fis.CustomerKey HAVING COUNT(fis.SalesOrderNumber) >= 2;\",\n",
    "    \"which promotion was the most impactful?\": \"SELECT dp.EnglishPromotionName, SUM(fis.SalesAmount) AS PromotionRevenue FROM factinternetsales fis JOIN dimpromotion dp ON fis.PromotionKey = dp.PromotionKey GROUP BY dp.EnglishPromotionName ORDER BY PromotionRevenue DESC;\",\n",
    "    \"who are the top 5 customers by total sales amount?\": \"SELECT TOP 5 CONCAT(dc.FirstName, ' ', dc.LastName) AS CustomerName, SUM(fis.SalesAmount) AS TotalSpent FROM factinternetsales fis JOIN dimcustomer dc ON fis.CustomerKey = dc.CustomerKey GROUP BY CONCAT(dc.FirstName, ' ', dc.LastName) ORDER BY TotalSpent DESC;\",\n",
    "    \"what is the total sales amount by year?\": \"SELECT dd.CalendarYear, SUM(fis.SalesAmount) AS TotalSales FROM factinternetsales fis JOIN dimdate dd ON fis.OrderDateKey = dd.DateKey GROUP BY dd.CalendarYear ORDER BY dd.CalendarYear;\",\n",
    "    \"which product category generated the highest revenue?\": \"SELECT dpc.EnglishProductCategoryName, SUM(fis.SalesAmount) AS CategoryRevenue FROM factinternetsales fis JOIN dimproduct dp ON fis.ProductKey = dp.ProductKey JOIN dimproductcategory dpc ON dp.ProductSubcategoryKey = dpc.ProductCategoryKey GROUP BY dpc.EnglishProductCategoryName ORDER BY CategoryRevenue DESC;\",\n",
    "    \"what is the average sales amount per order by territory?\": \"SELECT dst.SalesTerritoryRegion, AVG(fis.SalesAmount) AS AvgOrderValue FROM factinternetsales fis JOIN dimsalesterritory dst ON fis.SalesTerritoryKey = dst.SalesTerritoryKey GROUP BY dst.SalesTerritoryRegion ORDER BY AvgOrderValue DESC;\",\n",
    "    \"what is the total sales amount by currency?\": \"SELECT dc.CurrencyName, SUM(fis.SalesAmount) AS TotalSales FROM factinternetsales fis JOIN dimcurrency dc ON fis.CurrencyKey = dc.CurrencyKey GROUP BY dc.CurrencyName ORDER BY TotalSales DESC;\",\n",
    "    \"which product had the highest sales revenue last year?\": \"SELECT dp.EnglishProductName, SUM(fis.SalesAmount) AS TotalRevenue FROM factinternetsales fis JOIN dimproduct dp ON fis.ProductKey = dp.ProductKey JOIN dimdate dd ON fis.ShipDateKey = dd.DateKey WHERE dd.CalendarYear = YEAR(GETDATE()) - 1 GROUP BY dp.EnglishProductName ORDER BY TotalRevenue DESC;\",\n",
    "    \"what are the monthly sales trends for the last year?\": \"SELECT dd.CalendarYear, dd.MonthNumberOfYear, SUM(fis.SalesAmount) AS TotalSales FROM factinternetsales fis JOIN dimdate dd ON fis.ShipDateKey = dd.DateKey WHERE dd.CalendarYear = YEAR(GETDATE()) - 1 GROUP BY dd.CalendarYear, dd.MonthNumberOfYear ORDER BY dd.CalendarYear, dd.MonthNumberOfYear;\",\n",
    "    \"how did the latest promotion affect sales revenue?\": \"SELECT dp.EnglishPromotionName, SUM(fis.SalesAmount) AS PromotionRevenue FROM factinternetsales fis JOIN dimpromotion dp ON fis.PromotionKey = dp.PromotionKey WHERE dp.StartDate >= DATEADD(MONTH, 0, GETDATE()) GROUP BY dp.EnglishPromotionName ORDER BY PromotionRevenue DESC;\",\n",
    "    \"which territory had the highest sales revenue?\": \"SELECT dst.SalesTerritoryRegion, SUM(fis.SalesAmount) AS TotalSales FROM factinternetsales fis JOIN dimsalesterritory dst ON fis.SalesTerritoryKey = dst.SalesTerritoryKey GROUP BY dst.SalesTerritoryRegion ORDER BY TotalSales DESC;\",\n",
    "    \"who are the top 5 resellers by total sales amount?\": \"SELECT TOP 5 dr.ResellerName, SUM(frs.SalesAmount) AS TotalSales FROM factresellersales frs JOIN dimreseller dr ON frs.ResellerKey = dr.ResellerKey GROUP BY dr.ResellerName ORDER BY TotalSales DESC;\",\n",
    "    \"what is the total sales amount by customer region?\": \"SELECT dg.EnglishCountryRegionName, SUM(fis.SalesAmount) AS TotalSales FROM factinternetsales fis JOIN dimcustomer dc ON fis.CustomerKey = dc.CustomerKey JOIN dimgeography dg ON dc.GeographyKey = dg.GeographyKey GROUP BY dg.EnglishCountryRegionName ORDER BY TotalSales DESC;\",\n",
    "    \"which product category had the highest average sales price?\": \"SELECT dpc.EnglishProductCategoryName, AVG(fis.UnitPrice) AS AvgPrice FROM factinternetsales fis JOIN dimproduct dp ON fis.ProductKey = dp.ProductKey JOIN dimproductcategory dpc ON dp.ProductSubcategoryKey = dpc.ProductCategoryKey GROUP BY dpc.EnglishProductCategoryName ORDER BY AvgPrice DESC;\"\n",
    "}\n",
    "```\n",
    "\n",
    "\n",
    "...then publish the AI Skill...find the deployment, and you can begin working with it.  \n",
    "\n"
   ]
  },
  {
   "cell_type": "markdown",
   "id": "5b979e47-647f-49c4-98be-34176b3e1af2",
   "metadata": {
    "microsoft": {
     "language": "python",
     "language_group": "synapse_pyspark"
    },
    "nteract": {
     "transient": {
      "deleting": false
     }
    }
   },
   "source": [
    "## Quick Test"
   ]
  },
  {
   "cell_type": "code",
   "execution_count": null,
   "id": "8d53fc6c-1eff-42e5-8728-a188252cb106",
   "metadata": {
    "microsoft": {
     "language": "python",
     "language_group": "synapse_pyspark"
    }
   },
   "outputs": [
    {
     "data": {
      "application/vnd.livy.statement-meta+json": {
       "execution_finish_time": "2025-02-17T15:05:50.0511717Z",
       "execution_start_time": "2025-02-17T15:05:43.7016513Z",
       "livy_statement_state": "available",
       "normalized_state": "finished",
       "parent_msg_id": "3696cbf0-5028-4489-955f-b154a23ab2b7",
       "queued_time": "2025-02-17T15:05:43.5676277Z",
       "session_id": "93bb8502-3df7-450e-9ff2-776a5fd393ed",
       "session_start_time": null,
       "spark_pool": null,
       "state": "finished",
       "statement_id": 6,
       "statement_ids": [
        6
       ]
      },
      "text/plain": [
       "StatementMeta(, 93bb8502-3df7-450e-9ff2-776a5fd393ed, 6, Finished, Available, Finished)"
      ]
     },
     "metadata": {},
     "output_type": "display_data"
    },
    {
     "name": "stdout",
     "output_type": "stream",
     "text": [
      "RESPONSE:  <Response [200]>\n",
      "\n",
      "Jordan Turner,15999.10\n",
      "Willie Xu,13490.06\n",
      "Nichole Nara,13295.38\n",
      "Kaitlyn Henderson,13294.27\n",
      "Margaret He,13269.27\n"
     ]
    }
   ],
   "source": [
    "import requests\n",
    "import json\n",
    "import pprint\n",
    "from synapse.ml.mlflow import get_mlflow_env_config\n",
    "\n",
    "\n",
    "# the URL could change if the workspace is assigned to a different capacity\n",
    "url = \"<plug in your ai skill deployment URL here>\"\n",
    "\n",
    "configs = get_mlflow_env_config()\n",
    "\n",
    "headers = {\n",
    "    \"Authorization\": f\"Bearer {configs.driver_aad_token}\",\n",
    "    \"Content-Type\": \"application/json; charset=utf-8\"\n",
    "}\n",
    "\n",
    "question = \"{userQuestion: \\\"who are the top 5 customers by total sales amount?\\\"}\"\n",
    "\n",
    "response = requests.post(url, headers=headers, data = question)\n",
    "\n",
    "print(\"RESPONSE: \", response)\n",
    "\n",
    "print(\"\")\n",
    "\n",
    "response = json.loads(response.content)\n",
    "\n",
    "print(response[\"result\"])"
   ]
  },
  {
   "cell_type": "markdown",
   "id": "85d08655-4db3-4b70-be6f-ada51162d4f4",
   "metadata": {
    "microsoft": {
     "language": "python",
     "language_group": "synapse_pyspark"
    },
    "nteract": {
     "transient": {
      "deleting": false
     }
    }
   },
   "source": [
    "## Generating Additional Queries\n",
    "Sometimes you need to know what related questions may be.\n",
    "\n",
    "By rephrasing the original question in different ways, you can gather more comprehensive information and provide a deeper understanding of the topic at hand.\n",
    "\n",
    "Below is a sample prompt that demonstrates how to generate multiple relevant questions based on your initial question. In the following function, you will see how to call a specific LLM model from OpenAI. The parameters, deployment ID, messages, temperature, and seed are part of the experimental setup.\n",
    "\n",
    "In this case, the prompt and question are passed directly into the messages, the temperature is set to 0, the seed is fixed, and the deployment ID is set to one of the supported models.\n",
    "\n",
    "### Why should we care?  \n",
    "\n",
    "The notion of generating _Additional Queries_ is akin to a _semantic index_ that understands _synonyms_ and how different words likely mean the same thing.  We can use this technique to figure out and devise some testing queries that hopefully are close to how our users may ask their questions.  "
   ]
  },
  {
   "cell_type": "code",
   "execution_count": null,
   "id": "19e35dcb-4736-402b-82e4-fa8addcb352a",
   "metadata": {
    "microsoft": {
     "language": "python",
     "language_group": "synapse_pyspark"
    }
   },
   "outputs": [
    {
     "data": {
      "application/vnd.livy.statement-meta+json": {
       "execution_finish_time": "2025-02-17T15:12:02.5434631Z",
       "execution_start_time": "2025-02-17T15:12:02.2697591Z",
       "livy_statement_state": "available",
       "normalized_state": "finished",
       "parent_msg_id": "93867c5b-fc2c-43cc-b6e0-9427cb743c5c",
       "queued_time": "2025-02-17T15:12:02.0952701Z",
       "session_id": "93bb8502-3df7-450e-9ff2-776a5fd393ed",
       "session_start_time": null,
       "spark_pool": null,
       "state": "finished",
       "statement_id": 7,
       "statement_ids": [
        7
       ]
      },
      "text/plain": [
       "StatementMeta(, 93bb8502-3df7-450e-9ff2-776a5fd393ed, 7, Finished, Available, Finished)"
      ]
     },
     "metadata": {},
     "output_type": "display_data"
    }
   ],
   "source": [
    "prompt_extract_questions = \"\"\"You are a helpful analyst. You are given a user query, using the query create 3 relevant questions that will give more information around the *question being asked*. \n",
    "For example: If the question is, what is the top selling product in 2019? The rephrased questions could be: \n",
    "what were the top selling 3 products in 2019? what were the top 3 products sold in 2018? or what were the top 3 best-selling products across all years? \n",
    "Note that these questions will be independently used to query a SQL table.  Don't enumerate the questions and put each question in a new line.\n",
    "\"\"\""
   ]
  },
  {
   "cell_type": "code",
   "execution_count": null,
   "id": "eb311861-78cb-4e0e-a735-5152e2cf4344",
   "metadata": {
    "microsoft": {
     "language": "python",
     "language_group": "synapse_pyspark"
    }
   },
   "outputs": [
    {
     "data": {
      "application/vnd.livy.statement-meta+json": {
       "execution_finish_time": "2025-02-17T15:12:41.4537179Z",
       "execution_start_time": "2025-02-17T15:12:40.6969413Z",
       "livy_statement_state": "available",
       "normalized_state": "finished",
       "parent_msg_id": "9b6b3095-baa4-4a7c-970c-5689309afe15",
       "queued_time": "2025-02-17T15:12:40.5574628Z",
       "session_id": "93bb8502-3df7-450e-9ff2-776a5fd393ed",
       "session_start_time": null,
       "spark_pool": null,
       "state": "finished",
       "statement_id": 8,
       "statement_ids": [
        8
       ]
      },
      "text/plain": [
       "StatementMeta(, 93bb8502-3df7-450e-9ff2-776a5fd393ed, 8, Finished, Available, Finished)"
      ]
     },
     "metadata": {},
     "output_type": "display_data"
    }
   ],
   "source": [
    "import openai\n",
    "\n",
    "# Given a user question, generates 3 more questions that will be used to obtain more context about the original question\n",
    "def openAI_service_multiple_questions(query):\n",
    "    response = openai.ChatCompletion.create(\n",
    "        deployment_id='gpt-4-32k',\n",
    "        messages=[\n",
    "            {\"role\": \"system\", \"content\": prompt_extract_questions},\n",
    "            {\"role\": \"user\", \"content\": query},\n",
    "        ],\n",
    "        temperature=0,\n",
    "        seed=40,\n",
    "    )\n",
    "    return response"
   ]
  },
  {
   "cell_type": "code",
   "execution_count": null,
   "id": "5ab3f1fa-14ff-4eb7-af06-bc0f536e49db",
   "metadata": {
    "microsoft": {
     "language": "python",
     "language_group": "synapse_pyspark"
    }
   },
   "outputs": [
    {
     "data": {
      "application/vnd.livy.statement-meta+json": {
       "execution_finish_time": "2025-02-17T15:13:08.7607474Z",
       "execution_start_time": "2025-02-17T15:13:05.2827537Z",
       "livy_statement_state": "available",
       "normalized_state": "finished",
       "parent_msg_id": "65347fcf-49a2-4bbf-a6ce-bbcef601fc6b",
       "queued_time": "2025-02-17T15:13:05.0794081Z",
       "session_id": "93bb8502-3df7-450e-9ff2-776a5fd393ed",
       "session_start_time": null,
       "spark_pool": null,
       "state": "finished",
       "statement_id": 9,
       "statement_ids": [
        9
       ]
      },
      "text/plain": [
       "StatementMeta(, 93bb8502-3df7-450e-9ff2-776a5fd393ed, 9, Finished, Available, Finished)"
      ]
     },
     "metadata": {},
     "output_type": "display_data"
    },
    {
     "name": "stdout",
     "output_type": "stream",
     "text": [
      "What were the top three selling products in 2013?\n",
      "What was the top selling product in 2012?\n",
      "What are the top selling products across all years?\n"
     ]
    }
   ],
   "source": [
    "query = \"What is the top selling product in 2013?\"\n",
    "\n",
    "response = openAI_service_multiple_questions(query)\n",
    "answer = response.choices[0].message.content\n",
    "print(f\"{answer}\")"
   ]
  },
  {
   "cell_type": "markdown",
   "id": "259e7efa-b3be-4474-8dcc-2eec790ef278",
   "metadata": {
    "microsoft": {
     "language": "python",
     "language_group": "synapse_pyspark"
    },
    "nteract": {
     "transient": {
      "deleting": false
     }
    }
   },
   "source": [
    "## Call the AI Skill Function\n",
    "\n",
    "https://blog.fabric.microsoft.com/en-us/blog/harness-microsoft-fabric-ai-skill-to-unlock-context-rich-insights-from-your-data/"
   ]
  },
  {
   "cell_type": "code",
   "execution_count": null,
   "id": "af308078-99b0-4aad-8d70-d1ec5c39d304",
   "metadata": {
    "microsoft": {
     "language": "python",
     "language_group": "synapse_pyspark"
    }
   },
   "outputs": [],
   "source": [
    "context = \n",
    "question = \"\"\n",
    "aiskill_url = \"https://api.fabric.microsoft.com/v1/workspaces/99328097-99f9-47f7-bb76-63191a1432c5/aiskills/b1192229-2cfd-4733-9017-addbc5cb9eb0/query/deployment\""
   ]
  },
  {
   "cell_type": "code",
   "execution_count": null,
   "id": "1b7ebd51-78aa-4ef1-b97d-69cd87056e4e",
   "metadata": {
    "microsoft": {
     "language": "python",
     "language_group": "synapse_pyspark"
    }
   },
   "outputs": [
    {
     "data": {
      "application/vnd.livy.statement-meta+json": {
       "execution_finish_time": "2025-02-17T15:21:32.8553984Z",
       "execution_start_time": "2025-02-17T15:21:32.0568372Z",
       "livy_statement_state": "available",
       "normalized_state": "finished",
       "parent_msg_id": "7c1d2b53-043f-4dd3-91ba-dd1ab01959e9",
       "queued_time": "2025-02-17T15:21:31.8636396Z",
       "session_id": "93bb8502-3df7-450e-9ff2-776a5fd393ed",
       "session_start_time": null,
       "spark_pool": null,
       "state": "finished",
       "statement_id": 10,
       "statement_ids": [
        10
       ]
      },
      "text/plain": [
       "StatementMeta(, 93bb8502-3df7-450e-9ff2-776a5fd393ed, 10, Finished, Available, Finished)"
      ]
     },
     "metadata": {},
     "output_type": "display_data"
    }
   ],
   "source": [
    "from synapse.ml.mlflow import get_mlflow_env_config\n",
    "from tenacity import retry, stop_after_attempt\n",
    "import requests\n",
    "import json\n",
    "\n",
    "@retry(stop=stop_after_attempt(3))  # Retry up to 3 times\n",
    "def aiSkill(context, question, aiskill_url):\n",
    "\n",
    "    configs = get_mlflow_env_config()   \n",
    "    headers = {\n",
    "        \"Authorization\": f\"Bearer {configs.driver_aad_token}\",\n",
    "        \"Content-Type\": \"application/json; charset=utf-8\"\n",
    "    }\n",
    "\n",
    "    text = {\n",
    "        'userQuestion': question, \n",
    "        'modelBehavior' : {\n",
    "            'enableBlockAdditionalContextByLength': False,\n",
    "        },\n",
    "        'additionalContext': context # notes to the model\n",
    "    }\n",
    "\n",
    "    response = requests.post(aiskill_url, headers=headers, data = json.dumps(text))\n",
    "\n",
    "    response = json.loads(response.content)\n",
    "\n",
    "    # If the AISkill didn't generate a good SQL query, it will throw an error\n",
    "    if \"ResultRows\" not in response.keys():\n",
    "        raise ValueError(response[\"message\"])\n",
    "\n",
    "    return response"
   ]
  },
  {
   "cell_type": "code",
   "execution_count": null,
   "id": "2cde92b1-d7dd-4f85-96e0-6c3fd48aaacf",
   "metadata": {
    "microsoft": {
     "language": "python",
     "language_group": "synapse_pyspark"
    }
   },
   "outputs": [
    {
     "data": {
      "application/vnd.livy.statement-meta+json": {
       "execution_finish_time": "2025-02-17T15:21:43.7196521Z",
       "execution_start_time": "2025-02-17T15:21:43.4810397Z",
       "livy_statement_state": "available",
       "normalized_state": "finished",
       "parent_msg_id": "8595d924-b411-4dfc-bd09-9a9091b11ff0",
       "queued_time": "2025-02-17T15:21:43.3251236Z",
       "session_id": "93bb8502-3df7-450e-9ff2-776a5fd393ed",
       "session_start_time": null,
       "spark_pool": null,
       "state": "finished",
       "statement_id": 11,
       "statement_ids": [
        11
       ]
      },
      "text/plain": [
       "StatementMeta(, 93bb8502-3df7-450e-9ff2-776a5fd393ed, 11, Finished, Available, Finished)"
      ]
     },
     "metadata": {},
     "output_type": "display_data"
    }
   ],
   "source": [
    "notes = \"\"\" \\\n",
    "- When answering about a product, make sure to include the Product Name in dimproduct in the answer. \n",
    "- Best selling product should be determined by sales volume, not sales amount. \n",
    "- If you answer questions about quantities, make sure to include the quantity. \n",
    "- If the user asks about promotion, note that \"No Discount\" appearing in dimpromotion is not actually a promotion. Always filter out the \"No Discount\" if user asks about promotion. \n",
    "- If the question is generic and involves no finite entities such as \"top 5\", use a reasonable number less than 10, so that answer is not too large.\n",
    "\"\"\""
   ]
  },
  {
   "cell_type": "code",
   "execution_count": null,
   "id": "c9521baa-b878-4d95-b1c2-6b7c27ea2072",
   "metadata": {
    "microsoft": {
     "language": "python",
     "language_group": "synapse_pyspark"
    }
   },
   "outputs": [
    {
     "data": {
      "application/vnd.livy.statement-meta+json": {
       "execution_finish_time": "2025-02-17T15:23:08.3740779Z",
       "execution_start_time": "2025-02-17T15:23:08.1317367Z",
       "livy_statement_state": "available",
       "normalized_state": "finished",
       "parent_msg_id": "119f4498-fb89-4cf3-909c-3f4f1fd1393f",
       "queued_time": "2025-02-17T15:23:07.9755523Z",
       "session_id": "93bb8502-3df7-450e-9ff2-776a5fd393ed",
       "session_start_time": null,
       "spark_pool": null,
       "state": "finished",
       "statement_id": 14,
       "statement_ids": [
        14
       ]
      },
      "text/plain": [
       "StatementMeta(, 93bb8502-3df7-450e-9ff2-776a5fd393ed, 14, Finished, Available, Finished)"
      ]
     },
     "metadata": {},
     "output_type": "display_data"
    }
   ],
   "source": [
    "# Run a loop over the generated questions and get an answer from AI Skill\n",
    "def get_context_from_aiSkill(questions):\n",
    "    ai_skill_response = []\n",
    "    ai_skill_sql = []\n",
    "    for question in questions:\n",
    "        response = aiSkill(notes, question, aiskill_url)\n",
    "        ai_skill_response.append(f\"headers: {response['ResultHeaders']}, rows: {response['ResultRows']}\")\n",
    "        ai_skill_sql.append(response['executedSQL'])\n",
    "    return ai_skill_response, ai_skill_sql\n",
    "    questions.append(query)\n",
    "    ai_skill_response, ai_skill_sql = get_context_from_aiSkill(questions)"
   ]
  },
  {
   "cell_type": "code",
   "execution_count": null,
   "id": "5cbba4ad-0282-4591-8efb-502eaf0f3897",
   "metadata": {
    "microsoft": {
     "language": "python",
     "language_group": "synapse_pyspark"
    }
   },
   "outputs": [
    {
     "data": {
      "application/vnd.livy.statement-meta+json": {
       "execution_finish_time": "2025-02-17T15:23:25.4244496Z",
       "execution_start_time": "2025-02-17T15:23:25.1858697Z",
       "livy_statement_state": "available",
       "normalized_state": "finished",
       "parent_msg_id": "c2cfa549-fc50-4f60-a65c-626454d1caf1",
       "queued_time": "2025-02-17T15:23:24.9599284Z",
       "session_id": "93bb8502-3df7-450e-9ff2-776a5fd393ed",
       "session_start_time": null,
       "spark_pool": null,
       "state": "finished",
       "statement_id": 15,
       "statement_ids": [
        15
       ]
      },
      "text/plain": [
       "StatementMeta(, 93bb8502-3df7-450e-9ff2-776a5fd393ed, 15, Finished, Available, Finished)"
      ]
     },
     "metadata": {},
     "output_type": "display_data"
    }
   ],
   "source": [
    "import pandas as pd\n",
    "\n",
    "# Adjust Pandas display options to prevent truncation of long strings\n",
    "pd.set_option('display.max_colwidth', None)  # Set to 'None' to display all contents without truncation\n",
    "\n",
    "def display_ai_skill_data(questions, ai_skill_sql, ai_skill_response):\n",
    "    \"\"\"\n",
    "    This function takes questions, AI Skill SQL queries, and AI Skill responses, and \n",
    "    displays them in a table with three columns: 'Question', 'SQL Query', and 'AI Skill Response'.\n",
    "    \n",
    "    Args:\n",
    "    questions (list): List of questions.\n",
    "    ai_skill_sql (list): List of SQL queries generated by AI Skill.\n",
    "    ai_skill_response (list): List of responses generated by AI Skill.\n",
    "    \n",
    "    Returns:\n",
    "    DataFrame: A pandas DataFrame containing the questions, SQL queries, and responses.\n",
    "    \"\"\"\n",
    "    # Create DataFrame\n",
    "    df = pd.DataFrame({\n",
    "        'Question': questions,\n",
    "        'SQL Query': ai_skill_sql,\n",
    "        'AI Skill Response': ai_skill_response\n",
    "    })\n",
    "    \n",
    "    # Display the DataFrame\n",
    "    return df"
   ]
  },
  {
   "cell_type": "code",
   "execution_count": null,
   "id": "593e04ab-e629-48f3-a2b6-4efd70aff1eb",
   "metadata": {
    "microsoft": {
     "language": "python",
     "language_group": "synapse_pyspark"
    }
   },
   "outputs": [
    {
     "data": {
      "application/vnd.livy.statement-meta+json": {
       "execution_finish_time": "2025-02-17T15:23:39.8856735Z",
       "execution_start_time": "2025-02-17T15:23:39.649338Z",
       "livy_statement_state": "available",
       "normalized_state": "finished",
       "parent_msg_id": "104ca315-3dbf-442f-839f-74e73458807a",
       "queued_time": "2025-02-17T15:23:39.5140005Z",
       "session_id": "93bb8502-3df7-450e-9ff2-776a5fd393ed",
       "session_start_time": null,
       "spark_pool": null,
       "state": "finished",
       "statement_id": 16,
       "statement_ids": [
        16
       ]
      },
      "text/plain": [
       "StatementMeta(, 93bb8502-3df7-450e-9ff2-776a5fd393ed, 16, Finished, Available, Finished)"
      ]
     },
     "metadata": {},
     "output_type": "display_data"
    }
   ],
   "source": [
    "def get_context_to_answer_with_llm(query, rephrased_query, ai_skill_response):\n",
    "    context = \"\"\n",
    "    for index, question in enumerate(questions):\n",
    "        context += f\"rephrased question: {question} \\n\" + f\"header and rows of the table: {ai_skill_response[index]}\\n\" \n",
    "\n",
    "    context += f\"user query: {query}\"\n",
    "    return context"
   ]
  },
  {
   "cell_type": "code",
   "execution_count": null,
   "id": "5e821046-ddff-48ea-b94c-3e38bb6d81f5",
   "metadata": {
    "microsoft": {
     "language": "python",
     "language_group": "synapse_pyspark"
    }
   },
   "outputs": [
    {
     "data": {
      "application/vnd.livy.statement-meta+json": {
       "execution_finish_time": "2025-02-17T15:23:50.5320859Z",
       "execution_start_time": "2025-02-17T15:23:50.2917977Z",
       "livy_statement_state": "available",
       "normalized_state": "finished",
       "parent_msg_id": "e54a44dc-ea1a-4a4c-8f11-2446c11bf6b6",
       "queued_time": "2025-02-17T15:23:50.165772Z",
       "session_id": "93bb8502-3df7-450e-9ff2-776a5fd393ed",
       "session_start_time": null,
       "spark_pool": null,
       "state": "finished",
       "statement_id": 17,
       "statement_ids": [
        17
       ]
      },
      "text/plain": [
       "StatementMeta(, 93bb8502-3df7-450e-9ff2-776a5fd393ed, 17, Finished, Available, Finished)"
      ]
     },
     "metadata": {},
     "output_type": "display_data"
    },
    {
     "ename": "NameError",
     "evalue": "name 'questions' is not defined",
     "output_type": "error",
     "traceback": [
      "\u001b[0;31m---------------------------------------------------------------------------\u001b[0m",
      "\u001b[0;31mNameError\u001b[0m                                 Traceback (most recent call last)",
      "Cell \u001b[0;32mIn[50], line 1\u001b[0m\n\u001b[0;32m----> 1\u001b[0m context \u001b[38;5;241m=\u001b[39m get_context_to_answer_with_llm(query, \u001b[43mquestions\u001b[49m, ai_skill_response)\n",
      "\u001b[0;31mNameError\u001b[0m: name 'questions' is not defined"
     ]
    }
   ],
   "source": [
    "context = get_context_to_answer_with_llm(query, questions, ai_skill_response)"
   ]
  }
 ],
 "metadata": {
  "dependencies": {
   "lakehouse": {
    "default_lakehouse": "f5181b9f-5e33-4e46-ab81-b316b571336e",
    "default_lakehouse_name": "adventureworks",
    "default_lakehouse_workspace_id": "99328097-99f9-47f7-bb76-63191a1432c5"
   }
  },
  "kernel_info": {
   "name": "synapse_pyspark"
  },
  "kernelspec": {
   "display_name": "synapse_pyspark",
   "name": "synapse_pyspark"
  },
  "language_info": {
   "name": "python"
  },
  "microsoft": {
   "language": "python",
   "language_group": "synapse_pyspark",
   "ms_spell_check": {
    "ms_spell_check_language": "en"
   }
  },
  "nteract": {
   "version": "nteract-front-end@1.0.0"
  },
  "spark_compute": {
   "compute_id": "/trident/default",
   "session_options": {
    "conf": {
     "spark.synapse.nbs.session.timeout": "1200000"
    }
   }
  },
  "widgets": {
   "application/vnd.jupyter.widget-state+json": {
    "state": {
     "265562f0dea14ed08b026508fd540323": {
      "model_module": "@jupyter-widgets/controls",
      "model_module_version": "2.0.0",
      "model_name": "HTMLModel",
      "state": {
       "layout": "IPY_MODEL_c57a9e61dcec495bbb956f38a9926375",
       "style": "IPY_MODEL_8ceb05d58704485eac8557e4c793a128",
       "value": " 28/28 [01:40&lt;00:00,  2.53s/it]"
      }
     },
     "26837cc1946f4686999e249cef7f7764": {
      "model_module": "@jupyter-widgets/controls",
      "model_module_version": "2.0.0",
      "model_name": "FloatProgressModel",
      "state": {
       "bar_style": "success",
       "layout": "IPY_MODEL_a0bf8e6ee42543d1a135b7b6da912424",
       "max": 28,
       "style": "IPY_MODEL_d79e6ac4c1c34554814bc0261067cf5e",
       "value": 28
      }
     },
     "8a8f5ef0b1fb40608efa7fed253c34de": {
      "model_module": "@jupyter-widgets/base",
      "model_module_version": "2.0.0",
      "model_name": "LayoutModel",
      "state": {}
     },
     "8ceb05d58704485eac8557e4c793a128": {
      "model_module": "@jupyter-widgets/controls",
      "model_module_version": "2.0.0",
      "model_name": "HTMLStyleModel",
      "state": {
       "description_width": "",
       "font_size": null,
       "text_color": null
      }
     },
     "a0bf8e6ee42543d1a135b7b6da912424": {
      "model_module": "@jupyter-widgets/base",
      "model_module_version": "2.0.0",
      "model_name": "LayoutModel",
      "state": {}
     },
     "a12155c3f8ae4e428c245fbdfe510c88": {
      "model_module": "@jupyter-widgets/controls",
      "model_module_version": "2.0.0",
      "model_name": "HTMLModel",
      "state": {
       "layout": "IPY_MODEL_8a8f5ef0b1fb40608efa7fed253c34de",
       "style": "IPY_MODEL_d9ec1550b8d04e6cb2f4068aed2e270b",
       "value": "Uploading FactSalesQuota to lakehouse: 100%"
      }
     },
     "a1910e66ec3d4832b7086a874c8abcb5": {
      "model_module": "@jupyter-widgets/controls",
      "model_module_version": "2.0.0",
      "model_name": "HBoxModel",
      "state": {
       "children": [
        "IPY_MODEL_a12155c3f8ae4e428c245fbdfe510c88",
        "IPY_MODEL_26837cc1946f4686999e249cef7f7764",
        "IPY_MODEL_265562f0dea14ed08b026508fd540323"
       ],
       "layout": "IPY_MODEL_a62ed263c00343df847e7a129cc16543"
      }
     },
     "a62ed263c00343df847e7a129cc16543": {
      "model_module": "@jupyter-widgets/base",
      "model_module_version": "2.0.0",
      "model_name": "LayoutModel",
      "state": {}
     },
     "c57a9e61dcec495bbb956f38a9926375": {
      "model_module": "@jupyter-widgets/base",
      "model_module_version": "2.0.0",
      "model_name": "LayoutModel",
      "state": {}
     },
     "d79e6ac4c1c34554814bc0261067cf5e": {
      "model_module": "@jupyter-widgets/controls",
      "model_module_version": "2.0.0",
      "model_name": "ProgressStyleModel",
      "state": {
       "description_width": ""
      }
     },
     "d9ec1550b8d04e6cb2f4068aed2e270b": {
      "model_module": "@jupyter-widgets/controls",
      "model_module_version": "2.0.0",
      "model_name": "HTMLStyleModel",
      "state": {
       "description_width": "",
       "font_size": null,
       "text_color": null
      }
     }
    },
    "version_major": 2,
    "version_minor": 0
   }
  }
 },
 "nbformat": 4,
 "nbformat_minor": 5
}
